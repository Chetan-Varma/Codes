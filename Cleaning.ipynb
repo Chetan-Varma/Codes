{
  "nbformat": 4,
  "nbformat_minor": 0,
  "metadata": {
    "colab": {
      "provenance": [],
      "authorship_tag": "ABX9TyOlNori19OON1c8anFBA2LE",
      "include_colab_link": true
    },
    "kernelspec": {
      "name": "python3",
      "display_name": "Python 3"
    },
    "language_info": {
      "name": "python"
    }
  },
  "cells": [
    {
      "cell_type": "markdown",
      "metadata": {
        "id": "view-in-github",
        "colab_type": "text"
      },
      "source": [
        "<a href=\"https://colab.research.google.com/github/tirth5828/Codes/blob/main/Cleaning.ipynb\" target=\"_parent\"><img src=\"https://colab.research.google.com/assets/colab-badge.svg\" alt=\"Open In Colab\"/></a>"
      ]
    },
    {
      "cell_type": "code",
      "source": [
        "!pip install requests\n",
        "!pip install html5lib\n",
        "!pip install bs4"
      ],
      "metadata": {
        "colab": {
          "base_uri": "https://localhost:8080/"
        },
        "id": "IB8_R_xsviwv",
        "outputId": "eb81b1d6-b014-4f14-b401-aa3667ff7096"
      },
      "execution_count": 18,
      "outputs": [
        {
          "output_type": "stream",
          "name": "stdout",
          "text": [
            "Looking in indexes: https://pypi.org/simple, https://us-python.pkg.dev/colab-wheels/public/simple/\n",
            "Requirement already satisfied: requests in /usr/local/lib/python3.8/dist-packages (2.23.0)\n",
            "Requirement already satisfied: chardet<4,>=3.0.2 in /usr/local/lib/python3.8/dist-packages (from requests) (3.0.4)\n",
            "Requirement already satisfied: certifi>=2017.4.17 in /usr/local/lib/python3.8/dist-packages (from requests) (2022.9.24)\n",
            "Requirement already satisfied: idna<3,>=2.5 in /usr/local/lib/python3.8/dist-packages (from requests) (2.10)\n",
            "Requirement already satisfied: urllib3!=1.25.0,!=1.25.1,<1.26,>=1.21.1 in /usr/local/lib/python3.8/dist-packages (from requests) (1.24.3)\n",
            "Looking in indexes: https://pypi.org/simple, https://us-python.pkg.dev/colab-wheels/public/simple/\n",
            "Requirement already satisfied: html5lib in /usr/local/lib/python3.8/dist-packages (1.0.1)\n",
            "Requirement already satisfied: six>=1.9 in /usr/local/lib/python3.8/dist-packages (from html5lib) (1.15.0)\n",
            "Requirement already satisfied: webencodings in /usr/local/lib/python3.8/dist-packages (from html5lib) (0.5.1)\n",
            "Looking in indexes: https://pypi.org/simple, https://us-python.pkg.dev/colab-wheels/public/simple/\n",
            "Requirement already satisfied: bs4 in /usr/local/lib/python3.8/dist-packages (0.0.1)\n",
            "Requirement already satisfied: beautifulsoup4 in /usr/local/lib/python3.8/dist-packages (from bs4) (4.6.3)\n"
          ]
        }
      ]
    },
    {
      "cell_type": "code",
      "source": [
        "import requests\n",
        "from bs4 import BeautifulSoup\n",
        "URL = \"https://unicode.org/charts/collation/chart_Punctuation.html\"\n",
        "r = requests.get(URL)\n",
        "soup = BeautifulSoup(r.content, 'html5lib') # If this line causes an error, run 'pip install html5lib' or install html5lib\n",
        "table = soup.find_all('tt')\n",
        "punch_hex_list = []\n",
        "for i in table:\n",
        "  punch_hex_list.append(i.text) "
      ],
      "metadata": {
        "id": "jRyG41Lwgsrl"
      },
      "execution_count": null,
      "outputs": []
    },
    {
      "cell_type": "code",
      "execution_count": 62,
      "metadata": {
        "id": "TWhSCXrBinpy"
      },
      "outputs": [],
      "source": [
        "import string\n",
        "removestring = string.printable.replace(\"abcdefghijklmnopqrstuvwxyzABCDEFGHIJKLMNOPQRSTUVWXYZ\" , \"\")\n",
        "\n",
        "import unicodedata\n",
        "u =  chr(169) \n",
        "for hex in punch_hex_list:\n",
        "  u += chr(int(hex, 16))\n",
        "removestring += u"
      ]
    },
    {
      "cell_type": "code",
      "source": [
        "f = open(\"/content/english.txt\")"
      ],
      "metadata": {
        "id": "1CmJP1KRtTIF"
      },
      "execution_count": 64,
      "outputs": []
    },
    {
      "cell_type": "code",
      "source": [
        "file_text = f.read()"
      ],
      "metadata": {
        "id": "b9NiXPdFv6LZ"
      },
      "execution_count": 65,
      "outputs": []
    },
    {
      "cell_type": "code",
      "source": [
        "all_freq = {}\n",
        " \n",
        "for i in file_text:\n",
        "    if i in all_freq:\n",
        "        all_freq[i] += 1\n",
        "    else:\n",
        "        all_freq[i] = 1\n",
        "all_freq = sorted(all_freq.items(), key=lambda x:x[1])\n",
        "print(all_freq)"
      ],
      "metadata": {
        "colab": {
          "base_uri": "https://localhost:8080/"
        },
        "id": "QBc_BounwFo-",
        "outputId": "0693ee20-dbc3-48f2-d317-d055a765bd6a"
      },
      "execution_count": 66,
      "outputs": [
        {
          "output_type": "stream",
          "name": "stdout",
          "text": [
            "[('~', 1), ('`', 1), ('\\\\', 1), ('©', 1), ('@', 2), ('^', 3), ('$', 3), ('“', 5), ('”', 5), ('K', 6), ('%', 10), ('’', 12), ('*', 14), ('X', 14), ('V', 17), ('Z', 17), ('Q', 19), ('J', 20), ('G', 20), ('U', 32), ('Y', 37), ('W', 45), ('R', 47), ('O', 52), ('?', 54), ('P', 57), ('H', 62), ('A', 63), ('L', 65), ('B', 67), ('F', 77), ('q', 79), ('M', 84), ('N', 94), ('#', 95), ('|', 98), ('+', 105), ('C', 108), ('D', 137), ('E', 139), ('I', 145), ('T', 150), ('S', 180), ('!', 201), ('7', 226), ('&', 235), ('j', 239), ('\\t', 249), ('k', 254), ('8', 276), ('x', 284), ('6', 292), ('[', 308), (']', 308), ('9', 323), ('{', 364), ('}', 364), ('5', 387), ('4', 471), ('\\n', 503), ('y', 510), ('w', 556), ('z', 565), ('3', 579), ('2', 586), ('v', 674), ('b', 678), (';', 696), ('(', 714), (')', 714), ('-', 756), ('<', 797), ('>', 809), (':', 819), ('1', 862), ('0', 880), ('g', 923), ('/', 986), ('_', 991), ('f', 1054), ('h', 1065), ('u', 1112), ('.', 1137), ('m', 1287), ('=', 1317), (\"'\", 1455), (',', 1523), ('p', 1627), ('\"', 1758), ('l', 1916), ('c', 2027), ('d', 2318), ('n', 2450), ('s', 2515), ('r', 2561), ('i', 2874), ('o', 2924), (' ', 3353), ('a', 3366), ('t', 3947), ('e', 4869)]\n"
          ]
        }
      ]
    },
    {
      "cell_type": "code",
      "source": [
        "all_freq = {}\n",
        "\n",
        "for i in removestring:\n",
        "  file_text = file_text.replace(i,\"\")\n",
        " \n",
        "for i in file_text:\n",
        "    if i == '@':\n",
        "      print('alert')\n",
        "    if i in all_freq:\n",
        "        all_freq[i] += 1\n",
        "    else:\n",
        "        all_freq[i] = 1\n",
        "all_freq = sorted(all_freq.items(), key=lambda x:x[1])\n",
        "print(all_freq)"
      ],
      "metadata": {
        "colab": {
          "base_uri": "https://localhost:8080/"
        },
        "id": "2UvVg3q3wEXB",
        "outputId": "03467df9-5088-4bec-a00e-5cb4ed7aeb1d"
      },
      "execution_count": 70,
      "outputs": [
        {
          "output_type": "stream",
          "name": "stdout",
          "text": [
            "[('K', 6), ('X', 14), ('V', 17), ('Z', 17), ('Q', 19), ('J', 20), ('G', 20), ('U', 32), ('Y', 37), ('W', 45), ('R', 47), ('O', 52), ('P', 57), ('H', 62), ('A', 63), ('L', 65), ('B', 67), ('F', 77), ('q', 79), ('M', 84), ('N', 94), ('C', 108), ('D', 137), ('E', 139), ('I', 145), ('T', 150), ('S', 180), ('j', 239), ('k', 254), ('x', 284), ('y', 510), ('w', 556), ('z', 565), ('v', 674), ('b', 678), ('g', 923), ('f', 1054), ('h', 1065), ('u', 1112), ('m', 1287), ('p', 1627), ('l', 1916), ('c', 2027), ('d', 2318), ('n', 2450), ('s', 2515), ('r', 2561), ('i', 2874), ('o', 2924), ('a', 3366), ('t', 3947), ('e', 4869)]\n"
          ]
        }
      ]
    }
  ]
}