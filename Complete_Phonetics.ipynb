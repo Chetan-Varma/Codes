{
  "nbformat": 4,
  "nbformat_minor": 0,
  "metadata": {
    "colab": {
      "provenance": [],
      "collapsed_sections": [],
      "include_colab_link": true
    },
    "kernelspec": {
      "name": "python3",
      "display_name": "Python 3"
    },
    "language_info": {
      "name": "python"
    }
  },
  "cells": [
    {
      "cell_type": "markdown",
      "metadata": {
        "id": "view-in-github",
        "colab_type": "text"
      },
      "source": [
        "<a href=\"https://colab.research.google.com/github/tirth5828/Codes/blob/main/Complete_Phonetics.ipynb\" target=\"_parent\"><img src=\"https://colab.research.google.com/assets/colab-badge.svg\" alt=\"Open In Colab\"/></a>"
      ]
    },
    {
      "cell_type": "code",
      "source": [
        "pip install viphoneme"
      ],
      "metadata": {
        "colab": {
          "base_uri": "https://localhost:8080/"
        },
        "id": "09yVG-drOYLI",
        "outputId": "6ab50132-214b-489b-aebe-cf49d2b0559a"
      },
      "execution_count": null,
      "outputs": [
        {
          "output_type": "stream",
          "name": "stdout",
          "text": [
            "Looking in indexes: https://pypi.org/simple, https://us-python.pkg.dev/colab-wheels/public/simple/\n",
            "Requirement already satisfied: viphoneme in /usr/local/lib/python3.7/dist-packages (2.0.1)\n"
          ]
        }
      ]
    },
    {
      "cell_type": "code",
      "source": [
        "pip install python-math"
      ],
      "metadata": {
        "id": "Hk-iCsGvU9xU",
        "colab": {
          "base_uri": "https://localhost:8080/"
        },
        "outputId": "e8a98470-3170-4b5c-b8bf-ae674b32ea83"
      },
      "execution_count": null,
      "outputs": [
        {
          "output_type": "stream",
          "name": "stdout",
          "text": [
            "Looking in indexes: https://pypi.org/simple, https://us-python.pkg.dev/colab-wheels/public/simple/\n",
            "Requirement already satisfied: python-math in /usr/local/lib/python3.7/dist-packages (0.0.1)\n"
          ]
        }
      ]
    },
    {
      "cell_type": "code",
      "source": [
        "pip install prosodic"
      ],
      "metadata": {
        "colab": {
          "base_uri": "https://localhost:8080/"
        },
        "id": "imNlzBzYC8Qc",
        "outputId": "1e447353-0f71-43f2-b4dd-261e61cf823e"
      },
      "execution_count": null,
      "outputs": [
        {
          "output_type": "stream",
          "name": "stdout",
          "text": [
            "Looking in indexes: https://pypi.org/simple, https://us-python.pkg.dev/colab-wheels/public/simple/\n",
            "Requirement already satisfied: prosodic in /usr/local/lib/python3.7/dist-packages (1.6.1)\n",
            "Requirement already satisfied: nltk in /usr/local/lib/python3.7/dist-packages (from prosodic) (3.7)\n",
            "Requirement already satisfied: xlrd in /usr/local/lib/python3.7/dist-packages (from prosodic) (1.1.0)\n",
            "Requirement already satisfied: levenshtein in /usr/local/lib/python3.7/dist-packages (from prosodic) (0.20.3)\n",
            "Requirement already satisfied: networkx in /usr/local/lib/python3.7/dist-packages (from prosodic) (2.6.3)\n",
            "Requirement already satisfied: p-tqdm in /usr/local/lib/python3.7/dist-packages (from prosodic) (1.4.0)\n",
            "Requirement already satisfied: Pyphen in /usr/local/lib/python3.7/dist-packages (from prosodic) (0.13.0)\n",
            "Requirement already satisfied: scipy in /usr/local/lib/python3.7/dist-packages (from prosodic) (1.7.3)\n",
            "Requirement already satisfied: xlwt in /usr/local/lib/python3.7/dist-packages (from prosodic) (1.3.0)\n",
            "Requirement already satisfied: numpy in /usr/local/lib/python3.7/dist-packages (from prosodic) (1.21.6)\n",
            "Requirement already satisfied: pyparsing in /usr/local/lib/python3.7/dist-packages (from prosodic) (3.0.9)\n",
            "Requirement already satisfied: joblib in /usr/local/lib/python3.7/dist-packages (from nltk->prosodic) (1.1.0)\n",
            "Requirement already satisfied: regex>=2021.8.3 in /usr/local/lib/python3.7/dist-packages (from nltk->prosodic) (2022.6.2)\n",
            "Requirement already satisfied: click in /usr/local/lib/python3.7/dist-packages (from nltk->prosodic) (7.1.2)\n",
            "Requirement already satisfied: tqdm in /usr/local/lib/python3.7/dist-packages (from nltk->prosodic) (4.64.1)\n",
            "Requirement already satisfied: rapidfuzz<3.0.0,>=2.3.0 in /usr/local/lib/python3.7/dist-packages (from levenshtein->prosodic) (2.8.0)\n",
            "Requirement already satisfied: jarowinkler<2.0.0,>=1.2.0 in /usr/local/lib/python3.7/dist-packages (from rapidfuzz<3.0.0,>=2.3.0->levenshtein->prosodic) (1.2.1)\n",
            "Requirement already satisfied: six>=1.13.0 in /usr/local/lib/python3.7/dist-packages (from p-tqdm->prosodic) (1.15.0)\n",
            "Requirement already satisfied: pathos>=0.2.5 in /usr/local/lib/python3.7/dist-packages (from p-tqdm->prosodic) (0.2.9)\n",
            "Requirement already satisfied: pox>=0.3.1 in /usr/local/lib/python3.7/dist-packages (from pathos>=0.2.5->p-tqdm->prosodic) (0.3.1)\n",
            "Requirement already satisfied: multiprocess>=0.70.13 in /usr/local/lib/python3.7/dist-packages (from pathos>=0.2.5->p-tqdm->prosodic) (0.70.13)\n",
            "Requirement already satisfied: dill>=0.3.5.1 in /usr/local/lib/python3.7/dist-packages (from pathos>=0.2.5->p-tqdm->prosodic) (0.3.5.1)\n",
            "Requirement already satisfied: ppft>=1.7.6.5 in /usr/local/lib/python3.7/dist-packages (from pathos>=0.2.5->p-tqdm->prosodic) (1.7.6.5)\n"
          ]
        }
      ]
    },
    {
      "cell_type": "code",
      "source": [
        "pip install vinorm"
      ],
      "metadata": {
        "colab": {
          "base_uri": "https://localhost:8080/"
        },
        "id": "8Y-Z5NtiC9hz",
        "outputId": "da999680-5145-49e7-c78e-831e76af5fec"
      },
      "execution_count": null,
      "outputs": [
        {
          "output_type": "stream",
          "name": "stdout",
          "text": [
            "Looking in indexes: https://pypi.org/simple, https://us-python.pkg.dev/colab-wheels/public/simple/\n",
            "Requirement already satisfied: vinorm in /usr/local/lib/python3.7/dist-packages (2.0.7)\n"
          ]
        }
      ]
    },
    {
      "cell_type": "code",
      "source": [
        "pip install underthesea"
      ],
      "metadata": {
        "colab": {
          "base_uri": "https://localhost:8080/"
        },
        "id": "5gqy_LclC-mh",
        "outputId": "7c4b6112-1afa-4dad-fced-b6d4da96f66c"
      },
      "execution_count": null,
      "outputs": [
        {
          "output_type": "stream",
          "name": "stdout",
          "text": [
            "Looking in indexes: https://pypi.org/simple, https://us-python.pkg.dev/colab-wheels/public/simple/\n",
            "Requirement already satisfied: underthesea in /usr/local/lib/python3.7/dist-packages (1.3.4)\n",
            "Requirement already satisfied: scikit-learn in /usr/local/lib/python3.7/dist-packages (from underthesea) (1.0.2)\n",
            "Requirement already satisfied: nltk in /usr/local/lib/python3.7/dist-packages (from underthesea) (3.7)\n",
            "Requirement already satisfied: unidecode in /usr/local/lib/python3.7/dist-packages (from underthesea) (1.3.4)\n",
            "Requirement already satisfied: joblib in /usr/local/lib/python3.7/dist-packages (from underthesea) (1.1.0)\n",
            "Requirement already satisfied: python-crfsuite>=0.9.6 in /usr/local/lib/python3.7/dist-packages (from underthesea) (0.9.8)\n",
            "Requirement already satisfied: Click>=6.0 in /usr/local/lib/python3.7/dist-packages (from underthesea) (7.1.2)\n",
            "Requirement already satisfied: PyYAML in /usr/local/lib/python3.7/dist-packages (from underthesea) (6.0)\n",
            "Requirement already satisfied: requests in /usr/local/lib/python3.7/dist-packages (from underthesea) (2.23.0)\n",
            "Requirement already satisfied: tqdm in /usr/local/lib/python3.7/dist-packages (from underthesea) (4.64.1)\n",
            "Requirement already satisfied: underthesea-core==0.0.4_alpha.10 in /usr/local/lib/python3.7/dist-packages (from underthesea) (0.0.4a10)\n",
            "Requirement already satisfied: regex>=2021.8.3 in /usr/local/lib/python3.7/dist-packages (from nltk->underthesea) (2022.6.2)\n",
            "Requirement already satisfied: idna<3,>=2.5 in /usr/local/lib/python3.7/dist-packages (from requests->underthesea) (2.10)\n",
            "Requirement already satisfied: urllib3!=1.25.0,!=1.25.1,<1.26,>=1.21.1 in /usr/local/lib/python3.7/dist-packages (from requests->underthesea) (1.24.3)\n",
            "Requirement already satisfied: certifi>=2017.4.17 in /usr/local/lib/python3.7/dist-packages (from requests->underthesea) (2022.6.15)\n",
            "Requirement already satisfied: chardet<4,>=3.0.2 in /usr/local/lib/python3.7/dist-packages (from requests->underthesea) (3.0.4)\n",
            "Requirement already satisfied: threadpoolctl>=2.0.0 in /usr/local/lib/python3.7/dist-packages (from scikit-learn->underthesea) (3.1.0)\n",
            "Requirement already satisfied: numpy>=1.14.6 in /usr/local/lib/python3.7/dist-packages (from scikit-learn->underthesea) (1.21.6)\n",
            "Requirement already satisfied: scipy>=1.1.0 in /usr/local/lib/python3.7/dist-packages (from scikit-learn->underthesea) (1.7.3)\n"
          ]
        }
      ]
    },
    {
      "cell_type": "code",
      "source": [
        "pip install eng_to_ipa"
      ],
      "metadata": {
        "colab": {
          "base_uri": "https://localhost:8080/"
        },
        "id": "su2hRyqYDABh",
        "outputId": "ebca4fe6-2759-4a95-a087-4d5d8d5052df"
      },
      "execution_count": null,
      "outputs": [
        {
          "output_type": "stream",
          "name": "stdout",
          "text": [
            "Looking in indexes: https://pypi.org/simple, https://us-python.pkg.dev/colab-wheels/public/simple/\n",
            "Requirement already satisfied: eng_to_ipa in /usr/local/lib/python3.7/dist-packages (0.0.2)\n"
          ]
        }
      ]
    },
    {
      "cell_type": "code",
      "source": [
        "from viphoneme import syms\n",
        "from viphoneme import vi2IPA\n",
        "import seaborn as sns\n",
        "import pandas as pd\n",
        "import numpy as np"
      ],
      "metadata": {
        "id": "lzE_sqfuOggn"
      },
      "execution_count": null,
      "outputs": []
    },
    {
      "cell_type": "code",
      "source": [
        "import ast"
      ],
      "metadata": {
        "id": "8Yt0WrcBXu99"
      },
      "execution_count": null,
      "outputs": []
    },
    {
      "cell_type": "code",
      "source": [
        "from google.colab import drive\n",
        "drive.mount('/gdrive')\n",
        "%cd /gdrive"
      ],
      "metadata": {
        "colab": {
          "base_uri": "https://localhost:8080/"
        },
        "id": "iXsf0lb8KRD-",
        "outputId": "286ba090-7adb-4780-96cd-b0227c49e484"
      },
      "execution_count": null,
      "outputs": [
        {
          "output_type": "stream",
          "name": "stdout",
          "text": [
            "Drive already mounted at /gdrive; to attempt to forcibly remount, call drive.mount(\"/gdrive\", force_remount=True).\n",
            "/gdrive\n"
          ]
        }
      ]
    },
    {
      "cell_type": "code",
      "source": [],
      "metadata": {
        "id": "NKUBF1vqXtvG"
      },
      "execution_count": null,
      "outputs": []
    },
    {
      "cell_type": "code",
      "source": [
        "# with open('/gdrive/My Drive/IR Research/Corpus/Spanish/spanishCorpusSmallest.txt', 'r' , encoding = \"ISO-8859-1\") as f:\n",
        "#     text = f.readlines()"
      ],
      "metadata": {
        "id": "sy8FJIlwMMg4"
      },
      "execution_count": null,
      "outputs": []
    },
    {
      "cell_type": "code",
      "source": [
        "# phenome_trans_spanish = []\n",
        "# for lines in text:\n",
        "#   phenome_trans_spanish.append(vi2IPA(lines))"
      ],
      "metadata": {
        "id": "MPIghCKaAT-6"
      },
      "execution_count": null,
      "outputs": []
    },
    {
      "cell_type": "code",
      "source": [
        "# with open('/gdrive/My Drive/IR Research/Corpus/German/German_Corpus_Small.txt', 'r' , encoding = \"ISO-8859-1\") as f:\n",
        "#     text = f.readlines()"
      ],
      "metadata": {
        "id": "DGhEasIlQUbw"
      },
      "execution_count": null,
      "outputs": []
    },
    {
      "cell_type": "code",
      "source": [
        "# phenome_trans_german = []\n",
        "# for lines in text:\n",
        "#   phenome_trans_german.append(vi2IPA(lines))"
      ],
      "metadata": {
        "id": "fTeulUiFQZzB"
      },
      "execution_count": null,
      "outputs": []
    },
    {
      "cell_type": "code",
      "source": [
        "# with open('/gdrive/My Drive/IR Research/Corpus/French/frenchCorpus.txt', 'r' , encoding = \"ISO-8859-1\") as f:\n",
        "#     text = f.readlines()"
      ],
      "metadata": {
        "id": "HmDpvP_bQdZv"
      },
      "execution_count": null,
      "outputs": []
    },
    {
      "cell_type": "code",
      "source": [],
      "metadata": {
        "id": "_NyYA2H1QfIy"
      },
      "execution_count": null,
      "outputs": []
    },
    {
      "cell_type": "code",
      "source": [],
      "metadata": {
        "id": "qBQf_sZOOiSz"
      },
      "execution_count": null,
      "outputs": []
    },
    {
      "cell_type": "code",
      "source": [
        "# digram empty dict\n",
        "# bigram_dict = {}\n",
        "# for phonetic_symbol1 in syms:\n",
        "#       for phonetic_symbol2 in syms:\n",
        "#         phonetic_symbol = phonetic_symbol1+phonetic_symbol2\n",
        "#         bigram_dict[phonetic_symbol] = 0"
      ],
      "metadata": {
        "id": "bIfM6CyAPLTn"
      },
      "execution_count": null,
      "outputs": []
    },
    {
      "cell_type": "code",
      "source": [
        "# 1 gram\n",
        "def monogram(phenome_trans, unigram_dict):\n",
        "  for phonetic_symbol in syms:\n",
        "    if phonetic_symbol != \"\":\n",
        "      unigram_dict[phonetic_symbol] = 0;\n",
        "  for line in phenome_trans:\n",
        "    words_list = line.split()\n",
        "    for word in words_list:\n",
        "      word_size = len(word)      \n",
        "      for phoneme in range(0, word_size-1):\n",
        "        if word[phoneme] in unigram_dict:\n",
        "          unigram_dict[word[phoneme]] += 1\n",
        "  return unigram_dict"
      ],
      "metadata": {
        "id": "9SqqTrP-RS6l"
      },
      "execution_count": null,
      "outputs": []
    },
    {
      "cell_type": "code",
      "source": [
        "# 2 gram\n",
        "def digram(phenome_trans, bigram_dict):\n",
        "  for phonetic_symbol1 in syms:\n",
        "      for phonetic_symbol2 in syms:\n",
        "        if phonetic_symbol1 != \"\" and phonetic_symbol2 != \"\":\n",
        "          bigram_dict[phonetic_symbol1+phonetic_symbol2] = 0;\n",
        "  for line in phenome_trans:\n",
        "    word_list = line.split()    \n",
        "    for words in word_list:      \n",
        "      word_size = len(words)\n",
        "      for phoneme in range(0, word_size-2):  \n",
        "        biphoneme = words[phoneme] + words[phoneme+1]     \n",
        "        if biphoneme in bigram_dict:\n",
        "            bigram_dict[biphoneme] += 1\n",
        "  return bigram_dict"
      ],
      "metadata": {
        "id": "hHpCw4xkUyWW"
      },
      "execution_count": null,
      "outputs": []
    },
    {
      "cell_type": "code",
      "source": [
        "# def dict_angle(dict1,dict2):\n",
        "\n",
        "#   for keys in dict1:\n",
        "#     distance += (dict1[keys] - dict2[keys])**2\n",
        "#   distance = distance**(0.5)\n",
        "#   return distance"
      ],
      "metadata": {
        "id": "nZJuBkQfRlnF"
      },
      "execution_count": null,
      "outputs": []
    },
    {
      "cell_type": "code",
      "source": [
        "# def normalize(count_dict):\n",
        "#   total = 0\n",
        "#   for keys in count_dict:\n",
        "#     total += count_dict[keys]\n",
        "#   for keys in count_dict:\n",
        "#     count_dict[keys] = count_dict[keys] / total\n",
        "#   return count_dict"
      ],
      "metadata": {
        "id": "JwRnLWq8SThv"
      },
      "execution_count": null,
      "outputs": []
    },
    {
      "cell_type": "code",
      "source": [
        "def dot_prod(dict1, dict2):\n",
        "  total_prod = 0\n",
        "  \n",
        "  for keys in dict1:\n",
        "    total_prod += dict1[keys].dict2[keys]\n",
        "  return total_prod"
      ],
      "metadata": {
        "id": "eyS8C5CHE-uo"
      },
      "execution_count": null,
      "outputs": []
    },
    {
      "cell_type": "code",
      "source": [
        "def dot_prod_dict(dict1, dict2):\n",
        "  dict3 = {}\n",
        "  for keys in dict1:\n",
        "    dict3[keys] = dict1[keys]*dict2[keys]\n",
        "  return dict3"
      ],
      "metadata": {
        "id": "IHSJrWsLPg0S"
      },
      "execution_count": null,
      "outputs": []
    },
    {
      "cell_type": "code",
      "source": [
        "def dict_freq(dict1):\n",
        "  freq = 0\n",
        "  for keys in dict1:\n",
        "    freq += dict1[keys]\n",
        "  return freq"
      ],
      "metadata": {
        "id": "XOvezB6EI2Gd"
      },
      "execution_count": null,
      "outputs": []
    },
    {
      "cell_type": "code",
      "source": [
        "def calc_norm_dict(dict1):\n",
        "  value_mod = 0;\n",
        "  for phonemes in dict1:\n",
        "    value_mod += (dict1[phonemes]**2)\n",
        "  value_mod = (value_mod**(1/2))\n",
        "  for keys in dict1:\n",
        "    dict1[keys] = dict1[keys]/value_mod\n",
        "  return dict1"
      ],
      "metadata": {
        "id": "arotXYQGJI9v"
      },
      "execution_count": null,
      "outputs": []
    },
    {
      "cell_type": "code",
      "source": [
        "def calc_mod_mod(dict1):\n",
        "  value_mod = 0;\n",
        "  for phonemes in dict1:\n",
        "    mod += (dict1[phonemes]**2)\n",
        "  mod = (mod**(1/2))\n",
        "  return value_mod"
      ],
      "metadata": {
        "id": "FaRiniP1Ogv0"
      },
      "execution_count": null,
      "outputs": []
    },
    {
      "cell_type": "code",
      "source": [
        "def normalize(dict1, dict2):    \n",
        "  return math.acos((dot_prod(dict1, dict2)))"
      ],
      "metadata": {
        "id": "8eSKoIDcUqYI"
      },
      "execution_count": null,
      "outputs": []
    },
    {
      "cell_type": "code",
      "source": [
        "list_of_languages = []\n",
        "# for lines in text:\n",
        "#   list_of_languages"
      ],
      "metadata": {
        "id": "7RZkDiDSQ5vn"
      },
      "execution_count": null,
      "outputs": []
    },
    {
      "cell_type": "code",
      "source": [
        "with open('/gdrive/My Drive/IR Research/Corpus/Bible/Bible1 Language.txt', 'r' , encoding = \"ISO-8859-1\") as f:\n",
        "  text = f.readlines()\n",
        "  for line in text:\n",
        "    lines = line.split()\n",
        "    list_of_languages.append(str(lines[0]))\n",
        "\n",
        "\n",
        "for language in list_of_languages:\n",
        "  \n",
        "  phoneme_trans = []\n",
        "  with open(f'/gdrive/My Drive/IR Research/Corpus/Bible/Bible1/{language}/{language}.txt', 'r' , encoding = \"ISO-8859-1\") as f:\n",
        "    text = f.readlines()    \n",
        "    for lines in text:\n",
        "      phoneme_trans.append(vi2IPA(lines))\n",
        "    language_unigram_dict  = {}\n",
        "    language_unigram_dict = calc_norm_dict(monogram(phoneme_trans, language_unigram_dict ))\n",
        "    language_bigram_dict = {}\n",
        "    language_bigram_dict = calc_norm_dict(digram(phoneme_trans, language_bigram_dict))\n",
        "    f = open(f\"/gdrive/My Drive/IR Research/Corpus/Bible/Bible1/{language}/{language}_unigram_phonemes.txt\", \"w\")\n",
        "    f.write(str(language_unigram_dict))\n",
        "    f.close()\n",
        "    f = open(f\"/gdrive/My Drive/IR Research/Corpus/Bible/Bible1/{language}/{language}_bigram_phonemes.txt\", \"w\")\n",
        "    f.write(str(language_bigram_dict))\n",
        "    f.close()"
      ],
      "metadata": {
        "id": "wjOzq1UDPGOD"
      },
      "execution_count": null,
      "outputs": []
    },
    {
      "cell_type": "code",
      "source": [
        "for language1 in list_of_languages:\n",
        "  f1 = open(f\"/gdrive/My Drive/IR Research/Corpus/Bible/Bible1/{language1}/{language1}_unigram_phonemes.txt\", \"r\")\n",
        "  text1 = f1.readlines()\n",
        "  string1 = \"\"\n",
        "  for lines in text:\n",
        "    string1 += lines\n",
        "  dict1 = ast.literal_eval(string1)\n",
        "  for language2 in list_of_languages:    \n",
        "    f2 = open(f\"/gdrive/My Drive/IR Research/Corpus/Bible/Bible1/{language2}/{language2}_unigram_phonemes.txt\", \"r\")\n",
        "    text2 = f2.readlines()\n",
        "    string2 = \"\"\n",
        "    for lines in text:\n",
        "      string2 += lines\n",
        "    dict2 = ast.literal_eval(string2)\n",
        "    dict3 = {}\n",
        "    dict3 = dot_prod_dict(dict1, dict2)\n",
        "    dot_product = dot_prod(dict1, dict2)\n",
        "    f3 = open(f\"/gdrive/My Drive/IR Research/Corpus/Bible/Bible1/{language1}/{language1}_{language2}_unigram_phonemes.txt\", \"w\")\n",
        "    f3.write(str(dict3))\n",
        "    f3.close()\n",
        "    f4 = open(f\"/gdrive/My Drive/IR Research/Corpus//Bible/Bible1/{language1}/{language1}_{language2}_dot_product_unigram_phonemes.txt\", \"w\")\n",
        "    f4.write(str(dot_product))\n",
        "    f4.close()"
      ],
      "metadata": {
        "id": "TMARWhvjOny_"
      },
      "execution_count": null,
      "outputs": []
    },
    {
      "cell_type": "code",
      "source": [
        "for language1 in list_of_languages:\n",
        "  f1 = open(f\"/gdrive/My Drive/IR Research/Corpus/Bible/Bible1/{language1}/{language1}_bigram_phonemes.txt\", \"r\")\n",
        "  text1 = f1.readlines()\n",
        "  string1 = \"\"\n",
        "  for lines in text:\n",
        "    string1 += lines\n",
        "  dict1 = ast.literal_eval(string1)\n",
        "  for language2 in list_of_languages:    \n",
        "    f2 = open(f\"/gdrive/My Drive/IR Research/Corpus/Bible/Bible1/{language2}/{language2}_bigram_phonemes.txt\", \"r\")\n",
        "    text2 = f2.readlines()\n",
        "    string2 = \"\"\n",
        "    for lines in text:\n",
        "      string2 += lines\n",
        "    dict2 = ast.literal_eval(string2)\n",
        "    dict3 = {}\n",
        "    dict3 = dot_prod_dict(dict1, dict2)\n",
        "    dot_product = dot_prod(dict1, dict2)\n",
        "    f3 = open(f\"/gdrive/My Drive/IR Research/Corpus/Bible/Bible1/{language1}/{language1}_{language2}_bigram_phonemes.txt\", \"w\")\n",
        "    f3.write(str(dict3))\n",
        "    f3.close()\n",
        "    f4 = open(f\"/gdrive/My Drive/IR Research/Corpus/Bible/Bible1/{language1}/{language1}_{language2}_dot_product_bigram_phonemes.txt\", \"w\")\n",
        "    f4.write(str(dot_product))\n",
        "    f4.close()"
      ],
      "metadata": {
        "id": "AD63Skh4QGeA"
      },
      "execution_count": null,
      "outputs": []
    },
    {
      "cell_type": "code",
      "source": [
        "# spanish_unigram_dict  = {}\n",
        "# spanish_unigram_dict = calc_mod_dict(monogram(phenome_trans_spanish, spanish_unigram_dict ))\n"
      ],
      "metadata": {
        "id": "Ilgzp_tjQtcW"
      },
      "execution_count": null,
      "outputs": []
    },
    {
      "cell_type": "code",
      "source": [
        "# spanish_unigram_dict"
      ],
      "metadata": {
        "id": "yhOn2XrU-H_D"
      },
      "execution_count": null,
      "outputs": []
    },
    {
      "cell_type": "code",
      "source": [
        "# phenome_trans_spanish"
      ],
      "metadata": {
        "id": "y9AkTKej-NdB"
      },
      "execution_count": null,
      "outputs": []
    },
    {
      "cell_type": "code",
      "source": [],
      "metadata": {
        "id": "e3kcEB1E-IS1"
      },
      "execution_count": null,
      "outputs": []
    },
    {
      "cell_type": "code",
      "source": [
        "# spanish_bigram_dict = {}\n",
        "# spanish_bigram_dict = calc_mod_dict(digram(phenome_trans_spanish, spanish_bigram_dict))"
      ],
      "metadata": {
        "id": "Pyrt3Zrj-FAD"
      },
      "execution_count": null,
      "outputs": []
    },
    {
      "cell_type": "code",
      "source": [
        "# spanish_bigram_dict"
      ],
      "metadata": {
        "id": "5mPe6YzD6clC"
      },
      "execution_count": null,
      "outputs": []
    },
    {
      "cell_type": "code",
      "source": [
        "# german_unigram_dict  = {}\n",
        "# german_unigram_dict = calc_mod_dict(monogram(phenome_trans_german, german_unigram_dict))\n",
        "# german_bigram_dict = {}\n",
        "# german_bigram_dict = calc_mod_dict(digram(phenome_trans_german, german_bigram_dict))"
      ],
      "metadata": {
        "id": "xiNLGayvP2a7"
      },
      "execution_count": null,
      "outputs": []
    },
    {
      "cell_type": "code",
      "source": [
        "# french_unigram_dict  = {}\n",
        "# french_unigram_dict = calc_mod_dict(monogram(phenome_trans_french, french_unigram_dict))\n",
        "# french_bigram_dict = {}\n",
        "# french_bigram_dict = calc_mod_dict(digram(phenome_trans_french, french_bigram_dict))"
      ],
      "metadata": {
        "id": "1WAXVs01P2_H"
      },
      "execution_count": null,
      "outputs": []
    },
    {
      "cell_type": "code",
      "source": [
        "# french_unigram_dict  = []\n",
        "# french_unigram_dict = normalize(monogram(phenome_trans_french, french_unigram_dict))\n",
        "# french_bigram_dict = []\n",
        "# french_bigram_dict = normalize(digram(phenome_trans_french, french_bigram_dict))"
      ],
      "metadata": {
        "id": "t-mB7TtpRD2P"
      },
      "execution_count": null,
      "outputs": []
    },
    {
      "cell_type": "code",
      "source": [
        "# german_unigram_dict = normalize(monogram(phenome_trans_german,unigram_dict))\n",
        "# german_bigram_dict = normalize(digram(phenome_trans_german,bigram_dict))"
      ],
      "metadata": {
        "id": "S_6YplUuSgjE"
      },
      "execution_count": null,
      "outputs": []
    },
    {
      "cell_type": "code",
      "source": [
        "# spanish_german_monogram =  dict_distance(spanish_unigram_dict,german_unigram_dict)\n",
        "# spanish_german_bigram =  dict_distance(spanish_bigram_dict,german_bigram_dict)"
      ],
      "metadata": {
        "id": "KFBVc57JTgAq"
      },
      "execution_count": null,
      "outputs": []
    },
    {
      "cell_type": "code",
      "source": [
        "# spanish_french_monogram = dict_distance(spanish_unigram_dict,french_unigram_dict)\n",
        "# spanish_french_bigram = dict_distance(spanish_bigram_dict,french_bigram_dict)"
      ],
      "metadata": {
        "id": "x0j9Uh3bULNn"
      },
      "execution_count": null,
      "outputs": []
    },
    {
      "cell_type": "code",
      "source": [
        "# german_french_monogram = dict_distance(german_unigram_dict,french_unigram_dict)\n",
        "# german_french_bigram = dict_distance(german_bigram_dict,french_bigram_dict)"
      ],
      "metadata": {
        "id": "eCYwyLyWUTXd"
      },
      "execution_count": null,
      "outputs": []
    },
    {
      "cell_type": "code",
      "source": [
        "# german_german_monogram =  dict_distance(german_unigram_dict,german_unigram_dict)\n",
        "# german_german_bigram =  dict_distance(german_bigram_dict,german_bigram_dict)"
      ],
      "metadata": {
        "id": "Jznw37MAVA9h"
      },
      "execution_count": null,
      "outputs": []
    },
    {
      "cell_type": "code",
      "source": [
        "# french_french_monogram =  dict_distance(french_unigram_dict,french_unigram_dict)\n",
        "# french_french_bigram =  dict_distance(french_bigram_dict,french_bigram_dict)"
      ],
      "metadata": {
        "id": "yGZ8hHS2VNKb"
      },
      "execution_count": null,
      "outputs": []
    },
    {
      "cell_type": "code",
      "source": [
        "# spanish_spanish_monogram =  dict_distance(spanish_unigram_dict,spanish_unigram_dict)\n",
        "# spanish_spanish_bigram =  dict_distance(spanish_bigram_dict,spanish_bigram_dict)\n",
        "# dot_prod_dict(spanish_unigram_dict, french_unigram_dict)"
      ],
      "metadata": {
        "id": "T0NjloBcVUnc"
      },
      "execution_count": null,
      "outputs": []
    },
    {
      "cell_type": "code",
      "source": [
        "# df = pd.DataFrame(np.array([[dot_prod_dict(german_unigram_dict, german_unigram_dict), dot_prod_dict(german_unigram_dict, french_unigram_dict) , dot_prod_dict(spanish_unigram_dict, german_unigram_dict)], [dot_prod_dict(french_unigram_dict, french_unigram_dict), dot_prod_dict(spanish_unigram_dict, french_unigram_dict) , dot_prod_dict(french_unigram_dict, german_unigram_dict)], [dot_prod_dict(spanish_unigram_dict, spanish_unigram_dict), dot_prod_dict(spanish_unigram_dict, french_unigram_dict) , dot_prod_dict(spanish_unigram_dict, german_unigram_dict)]]), columns={'german', 'french', 'spanish'})\n",
        "# ax = sns.heatmap(df, vmin=0, vmax=1, center=0)"
      ],
      "metadata": {
        "id": "2ebdvruuUaZr"
      },
      "execution_count": null,
      "outputs": []
    },
    {
      "cell_type": "code",
      "source": [
        "#  f = open(\"/gdrive/My Drive/IR Research/Corpus/Spanish/spanish_unigram_phonemes.txt\", \"w\")\n",
        "# f.write(str(monogram(phenome_trans_spanish,unigram_dict)))\n",
        "# f.close()"
      ],
      "metadata": {
        "id": "-hOl0INxCIBH"
      },
      "execution_count": null,
      "outputs": []
    },
    {
      "cell_type": "code",
      "source": [
        "# f = open(\"/gdrive/My Drive/IR Research/Corpus/Spanish/spanish_unigram_phonemes.txt\", \"w\")\n",
        "# f.write(str(digram(phenome_trans_spanish,bigram_dict)))\n",
        "# f.close()"
      ],
      "metadata": {
        "id": "IL6u-4n7Wc12"
      },
      "execution_count": null,
      "outputs": []
    },
    {
      "cell_type": "code",
      "source": [
        "# f = open(\"/gdrive/My Drive/IR Research/Corpus/German/german_unigram_phonemes.txt\", \"w\")\n",
        "# f.write(str(monogram(phenome_trans_german,unigram_dict)))\n",
        "# f.close()"
      ],
      "metadata": {
        "id": "oPfXyxonWFxE"
      },
      "execution_count": null,
      "outputs": []
    },
    {
      "cell_type": "code",
      "source": [
        "# f = open(\"/gdrive/My Drive/IR Research/Corpus/German/german_unigram_phonemes.txt\", \"w\")\n",
        "# f.write(str(digram(phenome_trans_german,bigram_dict)))\n",
        "# f.close()"
      ],
      "metadata": {
        "id": "7RxmrKVmWhoU"
      },
      "execution_count": null,
      "outputs": []
    },
    {
      "cell_type": "code",
      "source": [
        "# f = open(\"/gdrive/My Drive/IR Research/Corpus/French/french_unigram_phonemes.txt\", \"w\")\n",
        "# f.write(str(monogram(phenome_trans_french,unigram_dict)))\n",
        "# f.close()"
      ],
      "metadata": {
        "id": "cAeKBtZDCUxY"
      },
      "execution_count": null,
      "outputs": []
    },
    {
      "cell_type": "code",
      "source": [
        "# f = open(\"/gdrive/My Drive/IR Research/Corpus/French/french_unigram_phonemes.txt\", \"w\")\n",
        "# f.write(str(digram(phenome_trans_french,bigram_dict)))\n",
        "# f.close()"
      ],
      "metadata": {
        "id": "iXBZjDKwWZsp"
      },
      "execution_count": null,
      "outputs": []
    },
    {
      "cell_type": "code",
      "source": [
        "# monogram(phenome_trans_spanish,unigram_dict)"
      ],
      "metadata": {
        "id": "vKzDG0y5OUdV"
      },
      "execution_count": null,
      "outputs": []
    },
    {
      "cell_type": "code",
      "source": [
        "# monogram(phenome_trans_french,unigram_dict)"
      ],
      "metadata": {
        "id": "3UfZ9fc7VWze"
      },
      "execution_count": null,
      "outputs": []
    },
    {
      "cell_type": "code",
      "source": [
        "# monogram(phenome_trans_german,unigram_dict)"
      ],
      "metadata": {
        "id": "I8olF6DjVdsu"
      },
      "execution_count": null,
      "outputs": []
    },
    {
      "cell_type": "code",
      "source": [
        "# digram(phenome_trans_german,bigram_dict)"
      ],
      "metadata": {
        "id": "Vkk7PrRyVfbX"
      },
      "execution_count": null,
      "outputs": []
    },
    {
      "cell_type": "code",
      "source": [
        "# digram(phenome_trans_spanish,bigram_dict)"
      ],
      "metadata": {
        "id": "-qLcANz4VupL"
      },
      "execution_count": null,
      "outputs": []
    },
    {
      "cell_type": "code",
      "source": [
        "# digram(phenome_trans_french,bigram_dict)"
      ],
      "metadata": {
        "id": "DiRPG-MmV0cL"
      },
      "execution_count": null,
      "outputs": []
    },
    {
      "cell_type": "code",
      "source": [
        "# len(syms)"
      ],
      "metadata": {
        "id": "m1HOzcB2V4Fw"
      },
      "execution_count": null,
      "outputs": []
    }
  ]
}